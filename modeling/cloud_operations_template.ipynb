{
 "cells": [
  {
   "cell_type": "markdown",
   "metadata": {},
   "source": [
    "# Oracle Aerospace Cloud Modeling\n",
    "\n",
    "I am a graduate of the USC Viterbi School of Engineering with enterprise experience in aerospace analytics and operational data modeling. This notebook presents a representative simulation of the analytical workflows supported during my time at Oracle, including resource optimization, performance monitoring, and structured cloud-driven insights."
   ]
  },
  {
   "cell_type": "code",
   "execution_count": null,
   "metadata": {},
   "outputs": [],
   "source": [
    "# Import necessary libraries\n",
    "import pandas as pd\n",
    "import numpy as np\n",
    "import matplotlib.pyplot as plt\n",
    "import seaborn as sns"
   ]
  },
  {
   "cell_type": "markdown",
   "metadata": {},
   "source": [
    "## Step 1: Load Synthetic Operational Data"
   ]
  },
  {
   "cell_type": "code",
   "execution_count": null,
   "metadata": {},
   "outputs": [],
   "source": [
    "# Load operational metrics from synthetic dataset\n",
    "df = pd.read_csv('../data/operational_metrics_synthetic.csv')\n",
    "df.head()"
   ]
  },
  {
   "cell_type": "markdown",
   "metadata": {},
   "source": [
    "## Step 2: Flag Elevated Fuel Usage"
   ]
  },
  {
   "cell_type": "code",
   "execution_count": null,
   "metadata": {},
   "outputs": [],
   "source": [
    "# Flag aircraft exceeding 5000 lbs fuel usage\n",
    "df['FuelFlag'] = df['FuelUsage'].apply(lambda x: 'High' if x > 5000 else 'Normal')\n",
    "df[['AircraftID', 'FuelUsage', 'FuelFlag']]"
   ]
  },
  {
   "cell_type": "markdown",
   "metadata": {},
   "source": [
    "## Step 3: Visualize Delay Metrics"
   ]
  },
  {
   "cell_type": "code",
   "execution_count": null,
   "metadata": {},
   "outputs": [],
   "source": [
    "# Create bar chart of aircraft delays\n",
    "plt.figure(figsize=(8,5))\n",
    "sns.barplot(x='AircraftID', y='DelayMinutes', data=df, palette='Blues_d')\n",
    "plt.title('Operational Delays by Aircraft')\n",
    "plt.ylabel('Delay (Minutes)')\n",
    "plt.xlabel('Aircraft')\n",
    "plt.tight_layout()\n",
    "plt.show()"
   ]
  },
  {
   "cell_type": "markdown",
   "metadata": {},
   "source": [
    "## Step 4: Assign Telemetry Health Score"
   ]
  },
  {
   "cell_type": "code",
   "execution_count": null,
   "metadata": {},
   "outputs": [],
   "source": [
    "# Map telemetry gaps to performance scores\n",
    "df['TelemetryScore'] = df['TelemetryGap'].map({\n",
    "    'None': 0,\n",
    "    'Low': 1,\n",
    "    'Medium': 2\n",
    "})\n",
    "df[['AircraftID', 'TelemetryGap', 'TelemetryScore']]"
   ]
  },
  {
   "cell_type": "markdown",
   "metadata": {},
   "source": [
    "## Summary\n",
    "\n",
    "This notebook illustrates a structured approach to operational modeling using synthetic data. While simplified for demonstration, the workflow reflects the technical style, judgment, and business value supported during cloud analytics engagements across the aerospace and defense sector."
   ]
  }
 ],
 "metadata": {
  "kernelspec": {
   "display_name": "Python 3",
   "language": "python",
   "name": "python3"
  },
  "language_info": {
   "name": "python",
   "version": "3.8"
  }
 },
 "nbformat": 4,
 "nbformat_minor": 2
}

